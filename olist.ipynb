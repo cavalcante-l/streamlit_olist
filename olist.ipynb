{
 "cells": [
  {
   "cell_type": "code",
   "execution_count": 19,
   "metadata": {
    "tags": []
   },
   "outputs": [],
   "source": [
    "import pandas as pd\n",
    "import numpy as np\n"
   ]
  },
  {
   "cell_type": "code",
   "execution_count": 2,
   "metadata": {},
   "outputs": [
    {
     "output_type": "execute_result",
     "data": {
      "text/plain": "   Unnamed: 0                          order_id  \\\n0         0.0  e481f51cbdc54678b7cc49136f2d6af7   \n1         1.0  e481f51cbdc54678b7cc49136f2d6af7   \n2         2.0  e481f51cbdc54678b7cc49136f2d6af7   \n3         3.0  128e10d95713541c87cd1a2e48201934   \n4         4.0  0e7e841ddf8f8f2de2bad69267ecfbcf   \n\n                        customer_id order_status order_purchase_timestamp  \\\n0  9ef432eb6251297304e76186b10a928d    delivered      2017-10-02 10:56:33   \n1  9ef432eb6251297304e76186b10a928d    delivered      2017-10-02 10:56:33   \n2  9ef432eb6251297304e76186b10a928d    delivered      2017-10-02 10:56:33   \n3  a20e8105f23924cd00833fd87daa0831    delivered      2017-08-15 18:29:31   \n4  26c7ac168e1433912a51b924fbd34d34    delivered      2017-08-02 18:24:47   \n\n     order_approved_at order_delivered_carrier_date  \\\n0  2017-10-02 11:07:15          2017-10-04 19:55:00   \n1  2017-10-02 11:07:15          2017-10-04 19:55:00   \n2  2017-10-02 11:07:15          2017-10-04 19:55:00   \n3  2017-08-15 20:05:16          2017-08-17 15:28:33   \n4  2017-08-02 18:43:15          2017-08-04 17:35:43   \n\n  order_delivered_customer_date order_estimated_delivery_date  order_item_id  \\\n0           2017-10-10 21:25:13           2017-10-18 00:00:00            1.0   \n1           2017-10-10 21:25:13           2017-10-18 00:00:00            1.0   \n2           2017-10-10 21:25:13           2017-10-18 00:00:00            1.0   \n3           2017-08-18 14:44:43           2017-08-28 00:00:00            1.0   \n4           2017-08-07 18:30:01           2017-08-15 00:00:00            1.0   \n\n   ... product_length_cm product_height_cm product_width_cm  \\\n0  ...              19.0               8.0             13.0   \n1  ...              19.0               8.0             13.0   \n2  ...              19.0               8.0             13.0   \n3  ...              19.0               8.0             13.0   \n4  ...              19.0               8.0             13.0   \n\n                 customer_unique_id customer_zip_code_prefix  customer_city  \\\n0  7c396fd4830fd04220f754e42b4e5bff                   3149.0      sao paulo   \n1  7c396fd4830fd04220f754e42b4e5bff                   3149.0      sao paulo   \n2  7c396fd4830fd04220f754e42b4e5bff                   3149.0      sao paulo   \n3  3a51803cc0d012c3b5dc8b7528cb05f7                   3366.0      sao paulo   \n4  ef0996a1a279c26e7ecbd737be23d235                   2290.0      sao paulo   \n\n  customer_state seller_zip_code_prefix  seller_city seller_state  \n0             SP                 9350.0         maua           SP  \n1             SP                 9350.0         maua           SP  \n2             SP                 9350.0         maua           SP  \n3             SP                 9350.0         maua           SP  \n4             SP                 9350.0         maua           SP  \n\n[5 rows x 40 columns]",
      "text/html": "<div>\n<style scoped>\n    .dataframe tbody tr th:only-of-type {\n        vertical-align: middle;\n    }\n\n    .dataframe tbody tr th {\n        vertical-align: top;\n    }\n\n    .dataframe thead th {\n        text-align: right;\n    }\n</style>\n<table border=\"1\" class=\"dataframe\">\n  <thead>\n    <tr style=\"text-align: right;\">\n      <th></th>\n      <th>Unnamed: 0</th>\n      <th>order_id</th>\n      <th>customer_id</th>\n      <th>order_status</th>\n      <th>order_purchase_timestamp</th>\n      <th>order_approved_at</th>\n      <th>order_delivered_carrier_date</th>\n      <th>order_delivered_customer_date</th>\n      <th>order_estimated_delivery_date</th>\n      <th>order_item_id</th>\n      <th>...</th>\n      <th>product_length_cm</th>\n      <th>product_height_cm</th>\n      <th>product_width_cm</th>\n      <th>customer_unique_id</th>\n      <th>customer_zip_code_prefix</th>\n      <th>customer_city</th>\n      <th>customer_state</th>\n      <th>seller_zip_code_prefix</th>\n      <th>seller_city</th>\n      <th>seller_state</th>\n    </tr>\n  </thead>\n  <tbody>\n    <tr>\n      <th>0</th>\n      <td>0.0</td>\n      <td>e481f51cbdc54678b7cc49136f2d6af7</td>\n      <td>9ef432eb6251297304e76186b10a928d</td>\n      <td>delivered</td>\n      <td>2017-10-02 10:56:33</td>\n      <td>2017-10-02 11:07:15</td>\n      <td>2017-10-04 19:55:00</td>\n      <td>2017-10-10 21:25:13</td>\n      <td>2017-10-18 00:00:00</td>\n      <td>1.0</td>\n      <td>...</td>\n      <td>19.0</td>\n      <td>8.0</td>\n      <td>13.0</td>\n      <td>7c396fd4830fd04220f754e42b4e5bff</td>\n      <td>3149.0</td>\n      <td>sao paulo</td>\n      <td>SP</td>\n      <td>9350.0</td>\n      <td>maua</td>\n      <td>SP</td>\n    </tr>\n    <tr>\n      <th>1</th>\n      <td>1.0</td>\n      <td>e481f51cbdc54678b7cc49136f2d6af7</td>\n      <td>9ef432eb6251297304e76186b10a928d</td>\n      <td>delivered</td>\n      <td>2017-10-02 10:56:33</td>\n      <td>2017-10-02 11:07:15</td>\n      <td>2017-10-04 19:55:00</td>\n      <td>2017-10-10 21:25:13</td>\n      <td>2017-10-18 00:00:00</td>\n      <td>1.0</td>\n      <td>...</td>\n      <td>19.0</td>\n      <td>8.0</td>\n      <td>13.0</td>\n      <td>7c396fd4830fd04220f754e42b4e5bff</td>\n      <td>3149.0</td>\n      <td>sao paulo</td>\n      <td>SP</td>\n      <td>9350.0</td>\n      <td>maua</td>\n      <td>SP</td>\n    </tr>\n    <tr>\n      <th>2</th>\n      <td>2.0</td>\n      <td>e481f51cbdc54678b7cc49136f2d6af7</td>\n      <td>9ef432eb6251297304e76186b10a928d</td>\n      <td>delivered</td>\n      <td>2017-10-02 10:56:33</td>\n      <td>2017-10-02 11:07:15</td>\n      <td>2017-10-04 19:55:00</td>\n      <td>2017-10-10 21:25:13</td>\n      <td>2017-10-18 00:00:00</td>\n      <td>1.0</td>\n      <td>...</td>\n      <td>19.0</td>\n      <td>8.0</td>\n      <td>13.0</td>\n      <td>7c396fd4830fd04220f754e42b4e5bff</td>\n      <td>3149.0</td>\n      <td>sao paulo</td>\n      <td>SP</td>\n      <td>9350.0</td>\n      <td>maua</td>\n      <td>SP</td>\n    </tr>\n    <tr>\n      <th>3</th>\n      <td>3.0</td>\n      <td>128e10d95713541c87cd1a2e48201934</td>\n      <td>a20e8105f23924cd00833fd87daa0831</td>\n      <td>delivered</td>\n      <td>2017-08-15 18:29:31</td>\n      <td>2017-08-15 20:05:16</td>\n      <td>2017-08-17 15:28:33</td>\n      <td>2017-08-18 14:44:43</td>\n      <td>2017-08-28 00:00:00</td>\n      <td>1.0</td>\n      <td>...</td>\n      <td>19.0</td>\n      <td>8.0</td>\n      <td>13.0</td>\n      <td>3a51803cc0d012c3b5dc8b7528cb05f7</td>\n      <td>3366.0</td>\n      <td>sao paulo</td>\n      <td>SP</td>\n      <td>9350.0</td>\n      <td>maua</td>\n      <td>SP</td>\n    </tr>\n    <tr>\n      <th>4</th>\n      <td>4.0</td>\n      <td>0e7e841ddf8f8f2de2bad69267ecfbcf</td>\n      <td>26c7ac168e1433912a51b924fbd34d34</td>\n      <td>delivered</td>\n      <td>2017-08-02 18:24:47</td>\n      <td>2017-08-02 18:43:15</td>\n      <td>2017-08-04 17:35:43</td>\n      <td>2017-08-07 18:30:01</td>\n      <td>2017-08-15 00:00:00</td>\n      <td>1.0</td>\n      <td>...</td>\n      <td>19.0</td>\n      <td>8.0</td>\n      <td>13.0</td>\n      <td>ef0996a1a279c26e7ecbd737be23d235</td>\n      <td>2290.0</td>\n      <td>sao paulo</td>\n      <td>SP</td>\n      <td>9350.0</td>\n      <td>maua</td>\n      <td>SP</td>\n    </tr>\n  </tbody>\n</table>\n<p>5 rows × 40 columns</p>\n</div>"
     },
     "metadata": {},
     "execution_count": 2
    }
   ],
   "source": [
    "olist_df = pd.read_csv('./olist_dataset_merge.csv')\n",
    "olist_df.head(5)"
   ]
  },
  {
   "cell_type": "code",
   "execution_count": 7,
   "metadata": {},
   "outputs": [
    {
     "output_type": "execute_result",
     "data": {
      "text/plain": "(119154, 40)"
     },
     "metadata": {},
     "execution_count": 7
    }
   ],
   "source": [
    "olist_df.shape"
   ]
  },
  {
   "cell_type": "code",
   "execution_count": 51,
   "metadata": {},
   "outputs": [
    {
     "output_type": "error",
     "ename": "ValueError",
     "evalue": "Unable to parse string \"taubate\" at position 77851",
     "traceback": [
      "\u001b[0;31m---------------------------------------------------------------------------\u001b[0m",
      "\u001b[0;31mValueError\u001b[0m                                Traceback (most recent call last)",
      "\u001b[0;32mpandas/_libs/lib.pyx\u001b[0m in \u001b[0;36mpandas._libs.lib.maybe_convert_numeric\u001b[0;34m()\u001b[0m\n",
      "\u001b[0;31mValueError\u001b[0m: Unable to parse string \"taubate\"",
      "\nDuring handling of the above exception, another exception occurred:\n",
      "\u001b[0;31mValueError\u001b[0m                                Traceback (most recent call last)",
      "\u001b[0;32m<ipython-input-51-df4059b8091c>\u001b[0m in \u001b[0;36m<module>\u001b[0;34m\u001b[0m\n\u001b[1;32m      1\u001b[0m \u001b[0molist_df\u001b[0m\u001b[0;34m.\u001b[0m\u001b[0miloc\u001b[0m\u001b[0;34m[\u001b[0m\u001b[0;36m0\u001b[0m\u001b[0;34m:\u001b[0m\u001b[0;36m2\u001b[0m\u001b[0;34m,\u001b[0m\u001b[0;36m13\u001b[0m\u001b[0;34m]\u001b[0m\u001b[0;34m\u001b[0m\u001b[0;34m\u001b[0m\u001b[0m\n\u001b[0;32m----> 2\u001b[0;31m \u001b[0molist_df\u001b[0m\u001b[0;34m[\u001b[0m\u001b[0;34m'price'\u001b[0m\u001b[0;34m]\u001b[0m \u001b[0;34m=\u001b[0m \u001b[0mpd\u001b[0m\u001b[0;34m.\u001b[0m\u001b[0mto_numeric\u001b[0m\u001b[0;34m(\u001b[0m\u001b[0molist_df\u001b[0m\u001b[0;34m[\u001b[0m\u001b[0;34m'price'\u001b[0m\u001b[0;34m]\u001b[0m\u001b[0;34m)\u001b[0m\u001b[0;34m\u001b[0m\u001b[0;34m\u001b[0m\u001b[0m\n\u001b[0m",
      "\u001b[0;32m~/Documents/Programming/Codenation/codenation_env/lib/python3.8/site-packages/pandas/core/tools/numeric.py\u001b[0m in \u001b[0;36mto_numeric\u001b[0;34m(arg, errors, downcast)\u001b[0m\n\u001b[1;32m    132\u001b[0m             \u001b[0mvalues\u001b[0m \u001b[0;34m=\u001b[0m \u001b[0mensure_object\u001b[0m\u001b[0;34m(\u001b[0m\u001b[0mvalues\u001b[0m\u001b[0;34m)\u001b[0m\u001b[0;34m\u001b[0m\u001b[0;34m\u001b[0m\u001b[0m\n\u001b[1;32m    133\u001b[0m             \u001b[0mcoerce_numeric\u001b[0m \u001b[0;34m=\u001b[0m \u001b[0;32mFalse\u001b[0m \u001b[0;32mif\u001b[0m \u001b[0merrors\u001b[0m \u001b[0;32min\u001b[0m \u001b[0;34m(\u001b[0m\u001b[0;34m'ignore'\u001b[0m\u001b[0;34m,\u001b[0m \u001b[0;34m'raise'\u001b[0m\u001b[0;34m)\u001b[0m \u001b[0;32melse\u001b[0m \u001b[0;32mTrue\u001b[0m\u001b[0;34m\u001b[0m\u001b[0;34m\u001b[0m\u001b[0m\n\u001b[0;32m--> 134\u001b[0;31m             values = lib.maybe_convert_numeric(values, set(),\n\u001b[0m\u001b[1;32m    135\u001b[0m                                                coerce_numeric=coerce_numeric)\n\u001b[1;32m    136\u001b[0m \u001b[0;34m\u001b[0m\u001b[0m\n",
      "\u001b[0;32mpandas/_libs/lib.pyx\u001b[0m in \u001b[0;36mpandas._libs.lib.maybe_convert_numeric\u001b[0;34m()\u001b[0m\n",
      "\u001b[0;31mValueError\u001b[0m: Unable to parse string \"taubate\" at position 77851"
     ]
    }
   ],
   "source": [
    "olist_df.iloc[0:2,13]\n",
    "olist_df['price'] = pd.to_numeric(olist_df['price'])"
   ]
  },
  {
   "cell_type": "code",
   "execution_count": 56,
   "metadata": {},
   "outputs": [
    {
     "output_type": "execute_result",
     "data": {
      "text/plain": "       Unnamed: 0                          order_id  \\\n77851         NaN               2017-09-21 00:00:00   \n77852     77851.0  d8c8bece281c5226428ab03f72ae8416   \n\n                            customer_id  order_status  \\\n77851               2017-09-21 12:25:26  beleza_saude   \n77852  9e17dac452c8ff31056ceb4e669a9aac     delivered   \n\n      order_purchase_timestamp    order_approved_at  \\\n77851                     55.0                865.0   \n77852      2018-08-12 18:19:12  2018-08-14 04:44:19   \n\n      order_delivered_carrier_date order_delivered_customer_date  \\\n77851                          4.0                        1400.0   \n77852          2018-08-14 17:01:00           2018-08-16 18:03:46   \n\n      order_estimated_delivery_date  order_item_id  ... product_length_cm  \\\n77851                          42.0           12.0  ...               NaN   \n77852           2018-08-28 00:00:00            1.0  ...              42.0   \n\n      product_height_cm product_width_cm                customer_unique_id  \\\n77851               NaN              NaN                               NaN   \n77852              12.0             11.0  3d6a13a1aa18fe9eb1ca966388a67ce8   \n\n      customer_zip_code_prefix  customer_city customer_state  \\\n77851                      NaN            NaN            NaN   \n77852                  86990.0       marialva             PR   \n\n      seller_zip_code_prefix  seller_city seller_state  \n77851                    NaN          NaN          NaN  \n77852                86050.0     londrina           PR  \n\n[2 rows x 40 columns]",
      "text/html": "<div>\n<style scoped>\n    .dataframe tbody tr th:only-of-type {\n        vertical-align: middle;\n    }\n\n    .dataframe tbody tr th {\n        vertical-align: top;\n    }\n\n    .dataframe thead th {\n        text-align: right;\n    }\n</style>\n<table border=\"1\" class=\"dataframe\">\n  <thead>\n    <tr style=\"text-align: right;\">\n      <th></th>\n      <th>Unnamed: 0</th>\n      <th>order_id</th>\n      <th>customer_id</th>\n      <th>order_status</th>\n      <th>order_purchase_timestamp</th>\n      <th>order_approved_at</th>\n      <th>order_delivered_carrier_date</th>\n      <th>order_delivered_customer_date</th>\n      <th>order_estimated_delivery_date</th>\n      <th>order_item_id</th>\n      <th>...</th>\n      <th>product_length_cm</th>\n      <th>product_height_cm</th>\n      <th>product_width_cm</th>\n      <th>customer_unique_id</th>\n      <th>customer_zip_code_prefix</th>\n      <th>customer_city</th>\n      <th>customer_state</th>\n      <th>seller_zip_code_prefix</th>\n      <th>seller_city</th>\n      <th>seller_state</th>\n    </tr>\n  </thead>\n  <tbody>\n    <tr>\n      <th>77851</th>\n      <td>NaN</td>\n      <td>2017-09-21 00:00:00</td>\n      <td>2017-09-21 12:25:26</td>\n      <td>beleza_saude</td>\n      <td>55.0</td>\n      <td>865.0</td>\n      <td>4.0</td>\n      <td>1400.0</td>\n      <td>42.0</td>\n      <td>12.0</td>\n      <td>...</td>\n      <td>NaN</td>\n      <td>NaN</td>\n      <td>NaN</td>\n      <td>NaN</td>\n      <td>NaN</td>\n      <td>NaN</td>\n      <td>NaN</td>\n      <td>NaN</td>\n      <td>NaN</td>\n      <td>NaN</td>\n    </tr>\n    <tr>\n      <th>77852</th>\n      <td>77851.0</td>\n      <td>d8c8bece281c5226428ab03f72ae8416</td>\n      <td>9e17dac452c8ff31056ceb4e669a9aac</td>\n      <td>delivered</td>\n      <td>2018-08-12 18:19:12</td>\n      <td>2018-08-14 04:44:19</td>\n      <td>2018-08-14 17:01:00</td>\n      <td>2018-08-16 18:03:46</td>\n      <td>2018-08-28 00:00:00</td>\n      <td>1.0</td>\n      <td>...</td>\n      <td>42.0</td>\n      <td>12.0</td>\n      <td>11.0</td>\n      <td>3d6a13a1aa18fe9eb1ca966388a67ce8</td>\n      <td>86990.0</td>\n      <td>marialva</td>\n      <td>PR</td>\n      <td>86050.0</td>\n      <td>londrina</td>\n      <td>PR</td>\n    </tr>\n  </tbody>\n</table>\n<p>2 rows × 40 columns</p>\n</div>"
     },
     "metadata": {},
     "execution_count": 56
    }
   ],
   "source": [
    "olist_df.iloc[77851:77853,]\n"
   ]
  },
  {
   "cell_type": "code",
   "execution_count": null,
   "metadata": {},
   "outputs": [],
   "source": []
  }
 ],
 "metadata": {
  "language_info": {
   "codemirror_mode": {
    "name": "ipython",
    "version": 3
   },
   "file_extension": ".py",
   "mimetype": "text/x-python",
   "name": "python",
   "nbconvert_exporter": "python",
   "pygments_lexer": "ipython3",
   "version": "3.8.3-final"
  },
  "orig_nbformat": 2,
  "kernelspec": {
   "name": "python38364bitcodenationenvvenv82d00deee5584d669e14b3234763c141",
   "display_name": "Python 3.8.3 64-bit ('codenation_env': venv)"
  }
 },
 "nbformat": 4,
 "nbformat_minor": 2
}